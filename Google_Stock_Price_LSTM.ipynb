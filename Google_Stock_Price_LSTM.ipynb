{
  "nbformat": 4,
  "nbformat_minor": 0,
  "metadata": {
    "colab": {
      "name": "Google_Stock_Price_LSTM.ipynb",
      "version": "0.3.2",
      "provenance": [],
      "collapsed_sections": [],
      "include_colab_link": true
    },
    "kernelspec": {
      "name": "python3",
      "display_name": "Python 3"
    },
    "accelerator": "GPU"
  },
  "cells": [
    {
      "cell_type": "markdown",
      "metadata": {
        "id": "view-in-github",
        "colab_type": "text"
      },
      "source": [
        "<a href=\"https://colab.research.google.com/github/abhinabasaha/Stock_Price_Prediction_By_LSTM/blob/master/Google_Stock_Price_LSTM.ipynb\" target=\"_parent\"><img src=\"https://colab.research.google.com/assets/colab-badge.svg\" alt=\"Open In Colab\"/></a>"
      ]
    },
    {
      "cell_type": "code",
      "metadata": {
        "id": "PoCK1ndCPMUm",
        "colab_type": "code",
        "outputId": "59185da6-8bc7-4b45-e0b7-c74fbc0b7f92",
        "colab": {
          "base_uri": "https://localhost:8080/",
          "height": 124
        }
      },
      "source": [
        "#Mounting Google Co-laboratory\n",
        "\n",
        "from google.colab import drive\n",
        "drive.mount('/content/drive/')\n"
      ],
      "execution_count": 0,
      "outputs": [
        {
          "output_type": "stream",
          "text": [
            "Go to this URL in a browser: https://accounts.google.com/o/oauth2/auth?client_id=947318989803-6bn6qk8qdgf4n4g3pfee6491hc0brc4i.apps.googleusercontent.com&redirect_uri=urn%3Aietf%3Awg%3Aoauth%3A2.0%3Aoob&scope=email%20https%3A%2F%2Fwww.googleapis.com%2Fauth%2Fdocs.test%20https%3A%2F%2Fwww.googleapis.com%2Fauth%2Fdrive%20https%3A%2F%2Fwww.googleapis.com%2Fauth%2Fdrive.photos.readonly%20https%3A%2F%2Fwww.googleapis.com%2Fauth%2Fpeopleapi.readonly&response_type=code\n",
            "\n",
            "Enter your authorization code:\n",
            "··········\n",
            "Mounted at /content/drive/\n"
          ],
          "name": "stdout"
        }
      ]
    },
    {
      "cell_type": "code",
      "metadata": {
        "id": "o0QDTMBgPs2i",
        "colab_type": "code",
        "colab": {}
      },
      "source": [
        "#Importing necessary Libraries\n",
        "\n",
        "import numpy as np\n",
        "import matplotlib.pyplot as plt\n",
        "import pandas as pd"
      ],
      "execution_count": 0,
      "outputs": []
    },
    {
      "cell_type": "code",
      "metadata": {
        "id": "JJf5nlxKPwR5",
        "colab_type": "code",
        "colab": {}
      },
      "source": [
        "#Loading dataset\n",
        "\n",
        "dataset_train = pd.read_csv(\"/content/drive/My Drive/DeepLearning/RNN_with_Keras/Google_Stock_Price_Train.csv\")"
      ],
      "execution_count": 0,
      "outputs": []
    },
    {
      "cell_type": "code",
      "metadata": {
        "id": "-P_Sh5pqQEFV",
        "colab_type": "code",
        "outputId": "231741fc-7065-4b6c-d21d-2f599dc24dbf",
        "colab": {
          "base_uri": "https://localhost:8080/",
          "height": 206
        }
      },
      "source": [
        "#Structure of the dataset\n",
        "#Here I will be using only the Opening price of each day(from 2012 to 2016) to train the model\n",
        "\n",
        "dataset_train.head(5)"
      ],
      "execution_count": 0,
      "outputs": [
        {
          "output_type": "execute_result",
          "data": {
            "text/html": [
              "<div>\n",
              "<style scoped>\n",
              "    .dataframe tbody tr th:only-of-type {\n",
              "        vertical-align: middle;\n",
              "    }\n",
              "\n",
              "    .dataframe tbody tr th {\n",
              "        vertical-align: top;\n",
              "    }\n",
              "\n",
              "    .dataframe thead th {\n",
              "        text-align: right;\n",
              "    }\n",
              "</style>\n",
              "<table border=\"1\" class=\"dataframe\">\n",
              "  <thead>\n",
              "    <tr style=\"text-align: right;\">\n",
              "      <th></th>\n",
              "      <th>Date</th>\n",
              "      <th>Open</th>\n",
              "      <th>High</th>\n",
              "      <th>Low</th>\n",
              "      <th>Close</th>\n",
              "      <th>Volume</th>\n",
              "    </tr>\n",
              "  </thead>\n",
              "  <tbody>\n",
              "    <tr>\n",
              "      <th>0</th>\n",
              "      <td>1/3/2012</td>\n",
              "      <td>325.25</td>\n",
              "      <td>332.83</td>\n",
              "      <td>324.97</td>\n",
              "      <td>663.59</td>\n",
              "      <td>7,380,500</td>\n",
              "    </tr>\n",
              "    <tr>\n",
              "      <th>1</th>\n",
              "      <td>1/4/2012</td>\n",
              "      <td>331.27</td>\n",
              "      <td>333.87</td>\n",
              "      <td>329.08</td>\n",
              "      <td>666.45</td>\n",
              "      <td>5,749,400</td>\n",
              "    </tr>\n",
              "    <tr>\n",
              "      <th>2</th>\n",
              "      <td>1/5/2012</td>\n",
              "      <td>329.83</td>\n",
              "      <td>330.75</td>\n",
              "      <td>326.89</td>\n",
              "      <td>657.21</td>\n",
              "      <td>6,590,300</td>\n",
              "    </tr>\n",
              "    <tr>\n",
              "      <th>3</th>\n",
              "      <td>1/6/2012</td>\n",
              "      <td>328.34</td>\n",
              "      <td>328.77</td>\n",
              "      <td>323.68</td>\n",
              "      <td>648.24</td>\n",
              "      <td>5,405,900</td>\n",
              "    </tr>\n",
              "    <tr>\n",
              "      <th>4</th>\n",
              "      <td>1/9/2012</td>\n",
              "      <td>322.04</td>\n",
              "      <td>322.29</td>\n",
              "      <td>309.46</td>\n",
              "      <td>620.76</td>\n",
              "      <td>11,688,800</td>\n",
              "    </tr>\n",
              "  </tbody>\n",
              "</table>\n",
              "</div>"
            ],
            "text/plain": [
              "       Date    Open    High     Low   Close      Volume\n",
              "0  1/3/2012  325.25  332.83  324.97  663.59   7,380,500\n",
              "1  1/4/2012  331.27  333.87  329.08  666.45   5,749,400\n",
              "2  1/5/2012  329.83  330.75  326.89  657.21   6,590,300\n",
              "3  1/6/2012  328.34  328.77  323.68  648.24   5,405,900\n",
              "4  1/9/2012  322.04  322.29  309.46  620.76  11,688,800"
            ]
          },
          "metadata": {
            "tags": []
          },
          "execution_count": 5
        }
      ]
    },
    {
      "cell_type": "code",
      "metadata": {
        "id": "AueXCuZpSHEp",
        "colab_type": "code",
        "colab": {}
      },
      "source": [
        "#Taking the Opening stock price data in the training dataset\n",
        "\n",
        "training_set = dataset_train.iloc[:, 1:2].values\n",
        "\n"
      ],
      "execution_count": 0,
      "outputs": []
    },
    {
      "cell_type": "code",
      "metadata": {
        "id": "sqkN4QF0S76N",
        "colab_type": "code",
        "colab": {}
      },
      "source": [
        ""
      ],
      "execution_count": 0,
      "outputs": []
    },
    {
      "cell_type": "markdown",
      "metadata": {
        "id": "-Zs6pm_SQPsX",
        "colab_type": "text"
      },
      "source": [
        "Visualizing the Data using MATPLOTLIB (Date vs Opening Stock price)"
      ]
    },
    {
      "cell_type": "code",
      "metadata": {
        "id": "Zjn9deljQJQN",
        "colab_type": "code",
        "outputId": "8d08df64-a352-45e6-cf91-0561bb3606c8",
        "colab": {
          "base_uri": "https://localhost:8080/",
          "height": 295
        }
      },
      "source": [
        "#Plotting the opening stock price from 2012 to 2016\n",
        "\n",
        "price=np.array(training_set)\n",
        "\n",
        "time=dataset_train.iloc[:, 0:1].values\n",
        "years=np.array(time)\n",
        "\n",
        "\n",
        "x=years[:,0]\n",
        "y=price[:,0]\n",
        "\n",
        "plt.plot(x,y)\n",
        "plt.title('Opening price curve from 2012 to 2016')\n",
        "plt.xlabel('TIME==>')\n",
        "plt.ylabel('PRICE==>')\n",
        "plt.show()\n"
      ],
      "execution_count": 0,
      "outputs": [
        {
          "output_type": "display_data",
          "data": {
            "image/png": "[encoded data removed]",
            "text/plain": [
              "<Figure size 432x288 with 1 Axes>"
            ]
          },
          "metadata": {
            "tags": []
          }
        }
      ]
    },
    {
      "cell_type": "markdown",
      "metadata": {
        "id": "Ap5lx55ZaMvI",
        "colab_type": "text"
      },
      "source": [
        "FEATURE SCALING\n",
        "\n",
        "Feature scaling is done to scale the data in order to achieve better convergence and learning.\n",
        "\n",
        "1.   Standardisation:     (x-mean(x))/(standard daviation(x))\n",
        "\n",
        "2.   Normalisation:         (x-min(x))/(max(x)-min(x))\n",
        "\n",
        "Here I will be using normalization because in the output layer sigmoid curve will be used as activation function.\n",
        "\n"
      ]
    },
    {
      "cell_type": "code",
      "metadata": {
        "id": "Dr36n4o4XExi",
        "colab_type": "code",
        "colab": {}
      },
      "source": [
        "#Here I will be using Normalization using the scikit-learn library.\n",
        "\n",
        "from sklearn.preprocessing import MinMaxScaler\n",
        "\n",
        "sc = MinMaxScaler(feature_range = (0, 1))\n",
        "training_set_scaled = sc.fit_transform(training_set)"
      ],
      "execution_count": 0,
      "outputs": []
    },
    {
      "cell_type": "code",
      "metadata": {
        "id": "MdzG1ZLiT6Ia",
        "colab_type": "code",
        "colab": {}
      },
      "source": [
        "# Creating a data structure with 60 timesteps and 1 output: 60 previous observations are considered to predict the current stock price\n",
        "\n",
        "X_train = []   #Initialize training data\n",
        "y_train = []   #Initialize testing data\n",
        "\n",
        "for i in range(60, 1258):\n",
        "    X_train.append(training_set_scaled[i-60:i, 0])\n",
        "    y_train.append(training_set_scaled[i, 0])\n",
        "X_train, y_train = np.array(X_train), np.array(y_train)"
      ],
      "execution_count": 0,
      "outputs": []
    },
    {
      "cell_type": "code",
      "metadata": {
        "id": "G7YU5PYhbcIB",
        "colab_type": "code",
        "colab": {}
      },
      "source": [
        "# Reshaping the training data to get 3D Dimentionality with one indicator\n",
        "\n",
        "X_train = np.reshape(X_train, (X_train.shape[0], X_train.shape[1], 1))"
      ],
      "execution_count": 0,
      "outputs": []
    },
    {
      "cell_type": "code",
      "metadata": {
        "id": "fKTFm0_qbfj2",
        "colab_type": "code",
        "outputId": "4d28dbf9-dde0-46b9-cfac-d5807b820147",
        "colab": {
          "base_uri": "https://localhost:8080/",
          "height": 34
        }
      },
      "source": [
        "# Importing the Keras libraries and packages\n",
        "\n",
        "from keras.models import Sequential\n",
        "from keras.layers import Dense\n",
        "from keras.layers import LSTM\n",
        "from keras.layers import Dropout"
      ],
      "execution_count": 0,
      "outputs": [
        {
          "output_type": "stream",
          "text": [
            "Using TensorFlow backend.\n"
          ],
          "name": "stderr"
        }
      ]
    },
    {
      "cell_type": "code",
      "metadata": {
        "id": "ZLrPAndNbhvX",
        "colab_type": "code",
        "colab": {}
      },
      "source": [
        "# Initialising the RNN (Since predicting a continuous value, hence using regressor)\n",
        "\n",
        "regressor = Sequential()"
      ],
      "execution_count": 0,
      "outputs": []
    },
    {
      "cell_type": "code",
      "metadata": {
        "id": "DuqtVeZYbrSW",
        "colab_type": "code",
        "colab": {}
      },
      "source": [
        "# Adding the first LSTM layer and some Dropout regularisation to reduce overfitting and improve generalization error\n",
        "\n",
        "regressor.add(LSTM(units = 50, return_sequences = True, input_shape = (X_train.shape[1], 1)))\n",
        "regressor.add(Dropout(0.2))"
      ],
      "execution_count": 0,
      "outputs": []
    },
    {
      "cell_type": "code",
      "metadata": {
        "id": "48AZCq_Zbx3k",
        "colab_type": "code",
        "colab": {}
      },
      "source": [
        "# Adding a second LSTM layer and some Dropout regularisation\n",
        "\n",
        "regressor.add(LSTM(units = 50, return_sequences = True))\n",
        "regressor.add(Dropout(0.2))"
      ],
      "execution_count": 0,
      "outputs": []
    },
    {
      "cell_type": "code",
      "metadata": {
        "id": "gjoFn9Tjb3fN",
        "colab_type": "code",
        "colab": {}
      },
      "source": [
        "# Adding a third LSTM layer and some Dropout regularisation\n",
        "\n",
        "regressor.add(LSTM(units = 50, return_sequences = True))\n",
        "regressor.add(Dropout(0.2))"
      ],
      "execution_count": 0,
      "outputs": []
    },
    {
      "cell_type": "code",
      "metadata": {
        "id": "G4tXpCPHb5gh",
        "colab_type": "code",
        "colab": {}
      },
      "source": [
        "# Adding a fourth LSTM layer and some Dropout regularisation (no return sequence since it is the last layer)\n",
        "\n",
        "regressor.add(LSTM(units = 50))\n",
        "regressor.add(Dropout(0.2))"
      ],
      "execution_count": 0,
      "outputs": []
    },
    {
      "cell_type": "code",
      "metadata": {
        "id": "0WNcMA6ucAR-",
        "colab_type": "code",
        "colab": {}
      },
      "source": [
        "# Adding the output layer (a fully connected layer using the Dense class) with single output\n",
        "\n",
        "regressor.add(Dense(units = 1))"
      ],
      "execution_count": 0,
      "outputs": []
    },
    {
      "cell_type": "code",
      "metadata": {
        "id": "b08g04GmcJpA",
        "colab_type": "code",
        "colab": {}
      },
      "source": [
        "# Compiling the RNN\n",
        "\n",
        "regressor.compile(optimizer = 'adam', loss = 'mean_squared_error')"
      ],
      "execution_count": 0,
      "outputs": []
    },
    {
      "cell_type": "code",
      "metadata": {
        "id": "XE_TNaPvcPyF",
        "colab_type": "code",
        "outputId": "765423bf-6579-42f0-c476-4cf0a35a79a5",
        "colab": {
          "base_uri": "https://localhost:8080/",
          "height": 1000
        }
      },
      "source": [
        "# Fitting the RNN to the Training set\n",
        "\n",
        "regressor.fit(X_train, y_train, epochs = 100, batch_size = 32)"
      ],
      "execution_count": 0,
      "outputs": [
        {
          "output_type": "stream",
          "text": [
            "Epoch 1/100\n",
            "1198/1198 [==============================] - 23s 19ms/step - loss: 0.0629\n",
            "Epoch 2/100\n",
            "1198/1198 [==============================] - 21s 17ms/step - loss: 0.0075\n",
            "Epoch 3/100\n",
            "1198/1198 [==============================] - 21s 17ms/step - loss: 0.0058\n",
            "Epoch 4/100\n",
            "1198/1198 [==============================] - 20s 17ms/step - loss: 0.0053\n",
            "Epoch 5/100\n",
            "1198/1198 [==============================] - 21s 17ms/step - loss: 0.0058\n",
            "Epoch 6/100\n",
            "1198/1198 [==============================] - 21s 17ms/step - loss: 0.0054\n",
            "Epoch 7/100\n",
            "1198/1198 [==============================] - 21s 17ms/step - loss: 0.0056\n",
            "Epoch 8/100\n",
            "1198/1198 [==============================] - 21s 17ms/step - loss: 0.0046\n",
            "Epoch 9/100\n",
            "1198/1198 [==============================] - 21s 17ms/step - loss: 0.0057\n",
            "Epoch 10/100\n",
            "1198/1198 [==============================] - 21s 17ms/step - loss: 0.0046\n",
            "Epoch 11/100\n",
            "1198/1198 [==============================] - 21s 17ms/step - loss: 0.0050\n",
            "Epoch 12/100\n",
            "1198/1198 [==============================] - 21s 17ms/step - loss: 0.0045\n",
            "Epoch 13/100\n",
            "1198/1198 [==============================] - 21s 18ms/step - loss: 0.0050\n",
            "Epoch 14/100\n",
            "1198/1198 [==============================] - 21s 18ms/step - loss: 0.0045\n",
            "Epoch 15/100\n",
            "1198/1198 [==============================] - 22s 18ms/step - loss: 0.0039\n",
            "Epoch 16/100\n",
            "1198/1198 [==============================] - 22s 18ms/step - loss: 0.0037\n",
            "Epoch 17/100\n",
            "1198/1198 [==============================] - 22s 18ms/step - loss: 0.0044\n",
            "Epoch 18/100\n",
            "1198/1198 [==============================] - 22s 18ms/step - loss: 0.0043\n",
            "Epoch 19/100\n",
            "1198/1198 [==============================] - 22s 18ms/step - loss: 0.0037\n",
            "Epoch 20/100\n",
            "1198/1198 [==============================] - 22s 18ms/step - loss: 0.0041\n",
            "Epoch 21/100\n",
            "1198/1198 [==============================] - 22s 18ms/step - loss: 0.0037\n",
            "Epoch 22/100\n",
            "1198/1198 [==============================] - 22s 18ms/step - loss: 0.0038\n",
            "Epoch 23/100\n",
            "1198/1198 [==============================] - 22s 18ms/step - loss: 0.0036\n",
            "Epoch 24/100\n",
            "1198/1198 [==============================] - 22s 18ms/step - loss: 0.0037\n",
            "Epoch 25/100\n",
            "1198/1198 [==============================] - 22s 18ms/step - loss: 0.0036\n",
            "Epoch 26/100\n",
            "1198/1198 [==============================] - 22s 18ms/step - loss: 0.0033\n",
            "Epoch 27/100\n",
            "1198/1198 [==============================] - 22s 18ms/step - loss: 0.0037\n",
            "Epoch 28/100\n",
            "1198/1198 [==============================] - 22s 18ms/step - loss: 0.0032\n",
            "Epoch 29/100\n",
            "1198/1198 [==============================] - 22s 18ms/step - loss: 0.0035\n",
            "Epoch 30/100\n",
            "1198/1198 [==============================] - 21s 18ms/step - loss: 0.0047\n",
            "Epoch 31/100\n",
            "1198/1198 [==============================] - 21s 18ms/step - loss: 0.0044\n",
            "Epoch 32/100\n",
            "1198/1198 [==============================] - 21s 18ms/step - loss: 0.0033\n",
            "Epoch 33/100\n",
            "1198/1198 [==============================] - 21s 18ms/step - loss: 0.0032\n",
            "Epoch 34/100\n",
            "1198/1198 [==============================] - 22s 18ms/step - loss: 0.0028\n",
            "Epoch 35/100\n",
            "1198/1198 [==============================] - 22s 18ms/step - loss: 0.0029\n",
            "Epoch 36/100\n",
            "1198/1198 [==============================] - 22s 18ms/step - loss: 0.0028\n",
            "Epoch 37/100\n",
            "1198/1198 [==============================] - 22s 18ms/step - loss: 0.0030\n",
            "Epoch 38/100\n",
            "1198/1198 [==============================] - 22s 18ms/step - loss: 0.0027\n",
            "Epoch 39/100\n",
            "1198/1198 [==============================] - 21s 18ms/step - loss: 0.0027\n",
            "Epoch 40/100\n",
            "1198/1198 [==============================] - 21s 18ms/step - loss: 0.0028\n",
            "Epoch 41/100\n",
            "1198/1198 [==============================] - 22s 18ms/step - loss: 0.0029\n",
            "Epoch 42/100\n",
            "1198/1198 [==============================] - 21s 18ms/step - loss: 0.0027\n",
            "Epoch 43/100\n",
            "1198/1198 [==============================] - 21s 18ms/step - loss: 0.0029\n",
            "Epoch 44/100\n",
            "1198/1198 [==============================] - 21s 18ms/step - loss: 0.0036\n",
            "Epoch 45/100\n",
            "1198/1198 [==============================] - 21s 18ms/step - loss: 0.0030\n",
            "Epoch 46/100\n",
            "1198/1198 [==============================] - 21s 18ms/step - loss: 0.0030\n",
            "Epoch 47/100\n",
            "1198/1198 [==============================] - 21s 18ms/step - loss: 0.0027\n",
            "Epoch 48/100\n",
            "1198/1198 [==============================] - 21s 18ms/step - loss: 0.0026\n",
            "Epoch 49/100\n",
            "1198/1198 [==============================] - 21s 18ms/step - loss: 0.0023\n",
            "Epoch 50/100\n",
            "1198/1198 [==============================] - 21s 18ms/step - loss: 0.0025\n",
            "Epoch 51/100\n",
            "1198/1198 [==============================] - 21s 18ms/step - loss: 0.0027\n",
            "Epoch 52/100\n",
            "1198/1198 [==============================] - 21s 17ms/step - loss: 0.0030\n",
            "Epoch 53/100\n",
            "1198/1198 [==============================] - 21s 17ms/step - loss: 0.0026\n",
            "Epoch 54/100\n",
            "1198/1198 [==============================] - 21s 18ms/step - loss: 0.0028\n",
            "Epoch 55/100\n",
            "1198/1198 [==============================] - 21s 18ms/step - loss: 0.0023\n",
            "Epoch 56/100\n",
            "1198/1198 [==============================] - 21s 18ms/step - loss: 0.0025\n",
            "Epoch 57/100\n",
            "1198/1198 [==============================] - 21s 18ms/step - loss: 0.0023\n",
            "Epoch 58/100\n",
            "1198/1198 [==============================] - 21s 18ms/step - loss: 0.0025\n",
            "Epoch 59/100\n",
            "1198/1198 [==============================] - 21s 18ms/step - loss: 0.0029\n",
            "Epoch 60/100\n",
            "1198/1198 [==============================] - 21s 18ms/step - loss: 0.0025\n",
            "Epoch 61/100\n",
            "1198/1198 [==============================] - 21s 17ms/step - loss: 0.0023\n",
            "Epoch 62/100\n",
            "1198/1198 [==============================] - 21s 17ms/step - loss: 0.0024\n",
            "Epoch 63/100\n",
            "1198/1198 [==============================] - 21s 17ms/step - loss: 0.0022\n",
            "Epoch 64/100\n",
            "1198/1198 [==============================] - 21s 18ms/step - loss: 0.0022\n",
            "Epoch 65/100\n",
            "1198/1198 [==============================] - 21s 18ms/step - loss: 0.0025\n",
            "Epoch 66/100\n",
            "1198/1198 [==============================] - 21s 18ms/step - loss: 0.0022\n",
            "Epoch 67/100\n",
            "1198/1198 [==============================] - 22s 18ms/step - loss: 0.0021\n",
            "Epoch 68/100\n",
            "1198/1198 [==============================] - 21s 18ms/step - loss: 0.0021\n",
            "Epoch 69/100\n",
            "1198/1198 [==============================] - 22s 18ms/step - loss: 0.0025\n",
            "Epoch 70/100\n",
            "1198/1198 [==============================] - 22s 18ms/step - loss: 0.0020\n",
            "Epoch 71/100\n",
            "1198/1198 [==============================] - 22s 18ms/step - loss: 0.0020\n",
            "Epoch 72/100\n",
            "1198/1198 [==============================] - 22s 18ms/step - loss: 0.0020\n",
            "Epoch 73/100\n",
            "1198/1198 [==============================] - 22s 18ms/step - loss: 0.0020\n",
            "Epoch 74/100\n",
            "1198/1198 [==============================] - 21s 18ms/step - loss: 0.0022\n",
            "Epoch 75/100\n",
            "1198/1198 [==============================] - 21s 18ms/step - loss: 0.0018\n",
            "Epoch 76/100\n",
            "1198/1198 [==============================] - 21s 18ms/step - loss: 0.0020\n",
            "Epoch 77/100\n",
            "1198/1198 [==============================] - 21s 18ms/step - loss: 0.0018\n",
            "Epoch 78/100\n",
            "1198/1198 [==============================] - 21s 18ms/step - loss: 0.0021\n",
            "Epoch 79/100\n",
            "1198/1198 [==============================] - 21s 18ms/step - loss: 0.0017\n",
            "Epoch 80/100\n",
            "1198/1198 [==============================] - 21s 18ms/step - loss: 0.0021\n",
            "Epoch 81/100\n",
            "1198/1198 [==============================] - 22s 18ms/step - loss: 0.0020\n",
            "Epoch 82/100\n",
            "1198/1198 [==============================] - 22s 18ms/step - loss: 0.0017\n",
            "Epoch 83/100\n",
            "1198/1198 [==============================] - 21s 18ms/step - loss: 0.0018\n",
            "Epoch 84/100\n",
            "1198/1198 [==============================] - 22s 18ms/step - loss: 0.0018\n",
            "Epoch 85/100\n",
            "1198/1198 [==============================] - 22s 18ms/step - loss: 0.0019\n",
            "Epoch 86/100\n",
            "1198/1198 [==============================] - 22s 18ms/step - loss: 0.0019\n",
            "Epoch 87/100\n",
            "1198/1198 [==============================] - 22s 18ms/step - loss: 0.0017\n",
            "Epoch 88/100\n",
            "1198/1198 [==============================] - 22s 18ms/step - loss: 0.0017\n",
            "Epoch 89/100\n",
            "1198/1198 [==============================] - 21s 18ms/step - loss: 0.0018\n",
            "Epoch 90/100\n",
            "1198/1198 [==============================] - 21s 18ms/step - loss: 0.0017\n",
            "Epoch 91/100\n",
            "1198/1198 [==============================] - 22s 18ms/step - loss: 0.0017\n",
            "Epoch 92/100\n",
            "1198/1198 [==============================] - 21s 17ms/step - loss: 0.0019\n",
            "Epoch 93/100\n",
            "1198/1198 [==============================] - 21s 18ms/step - loss: 0.0018\n",
            "Epoch 94/100\n",
            "1198/1198 [==============================] - 21s 17ms/step - loss: 0.0020\n",
            "Epoch 95/100\n",
            "1198/1198 [==============================] - 21s 18ms/step - loss: 0.0021\n",
            "Epoch 96/100\n",
            "1198/1198 [==============================] - 21s 18ms/step - loss: 0.0027\n",
            "Epoch 97/100\n",
            "1198/1198 [==============================] - 21s 18ms/step - loss: 0.0021\n",
            "Epoch 98/100\n",
            "1198/1198 [==============================] - 21s 18ms/step - loss: 0.0020\n",
            "Epoch 99/100\n",
            "1198/1198 [==============================] - 21s 18ms/step - loss: 0.0016\n",
            "Epoch 100/100\n",
            "1198/1198 [==============================] - 22s 18ms/step - loss: 0.0015\n"
          ],
          "name": "stdout"
        },
        {
          "output_type": "execute_result",
          "data": {
            "text/plain": [
              "<keras.callbacks.History at 0x7f1b485fab38>"
            ]
          },
          "metadata": {
            "tags": []
          },
          "execution_count": 57
        }
      ]
    },
    {
      "cell_type": "markdown",
      "metadata": {
        "id": "N3z-vH7mmAJO",
        "colab_type": "text"
      },
      "source": [
        ""
      ]
    },
    {
      "cell_type": "markdown",
      "metadata": {
        "id": "CR_JJiGtmMpe",
        "colab_type": "text"
      },
      "source": [
        "Making the predictions and visualizing the results."
      ]
    },
    {
      "cell_type": "code",
      "metadata": {
        "id": "YrNWqakil8bI",
        "colab_type": "code",
        "colab": {}
      },
      "source": [
        "# Getting the real stock price of 2017\n",
        "\n",
        "dataset_test = pd.read_csv(\"/content/drive/My Drive/DeepLearning/RNN_with_Keras/Google_Stock_Price_Test.csv\")\n",
        "real_stock_price = dataset_test.iloc[:, 1:2].values"
      ],
      "execution_count": 0,
      "outputs": []
    },
    {
      "cell_type": "code",
      "metadata": {
        "id": "9uAH_ihvmgKp",
        "colab_type": "code",
        "outputId": "35e07d4f-3529-4565-f67b-4992136f502b",
        "colab": {
          "base_uri": "https://localhost:8080/",
          "height": 295
        }
      },
      "source": [
        "#Visualizing the Stock Price Curve of January 2017\n",
        "rsp=np.array(real_stock_price)\n",
        "T=dataset_test.iloc[:, 0:1].values\n",
        "\n",
        "a=rsp[:,0]\n",
        "b=T[:,0]\n",
        "\n",
        "plt.plot(b,a)\n",
        "plt.title(\"Stock Price Curve of January 2017\")\n",
        "plt.xlabel('Time==>')\n",
        "plt.ylabel('Price==>')\n",
        "plt.show()\n"
      ],
      "execution_count": 0,
      "outputs": [
        {
          "output_type": "display_data",
          "data": {
            "image/png": "[encoded data removed]",
            "text/plain": [
              "<Figure size 432x288 with 1 Axes>"
            ]
          },
          "metadata": {
            "tags": []
          }
        }
      ]
    },
    {
      "cell_type": "code",
      "metadata": {
        "id": "tP6Kfkvbn1AX",
        "colab_type": "code",
        "colab": {}
      },
      "source": [
        "# Getting the predicted stock price of 2017\n",
        "\n",
        "dataset_total = pd.concat((dataset_train['Open'], dataset_test['Open']), axis = 0)\n",
        "inputs = dataset_total[len(dataset_total) - len(dataset_test) - 60:].values\n",
        "inputs = inputs.reshape(-1,1)\n",
        "inputs = sc.transform(inputs)\n",
        "X_test = []\n",
        "for i in range(60, 80):\n",
        "    X_test.append(inputs[i-60:i, 0])\n",
        "X_test = np.array(X_test)\n",
        "X_test = np.reshape(X_test, (X_test.shape[0], X_test.shape[1], 1))\n",
        "predicted_stock_price = regressor.predict(X_test)\n",
        "predicted_stock_price = sc.inverse_transform(predicted_stock_price)"
      ],
      "execution_count": 0,
      "outputs": []
    },
    {
      "cell_type": "code",
      "metadata": {
        "id": "nJGlI18rn5Td",
        "colab_type": "code",
        "outputId": "f25d5cf1-17b3-42da-8de1-4e379822c772",
        "colab": {
          "base_uri": "https://localhost:8080/",
          "height": 295
        }
      },
      "source": [
        "# Visualising the results\n",
        "\n",
        "plt.plot(real_stock_price, color = 'red', label = 'Real Google Stock Price')\n",
        "plt.plot(predicted_stock_price, color = 'blue', label = 'Predicted Google Stock Price')\n",
        "plt.title('Google Stock Price Prediction')\n",
        "plt.xlabel('Time')\n",
        "plt.ylabel('Google Stock Price')\n",
        "plt.legend()\n",
        "plt.show()"
      ],
      "execution_count": 0,
      "outputs": [
        {
          "output_type": "display_data",
          "data": {
            "image/png": "[encoded data removed]",
            "text/plain": [
              "<Figure size 432x288 with 1 Axes>"
            ]
          },
          "metadata": {
            "tags": []
          }
        }
      ]
    }
  ]
}